{
 "cells": [
  {
   "cell_type": "code",
   "execution_count": 28,
   "id": "00e69e3e-165e-4da1-98bc-0526ae807fd5",
   "metadata": {},
   "outputs": [
    {
     "name": "stdout",
     "output_type": "stream",
     "text": [
      "('zahraa', [1, 2, 3], 2.3, (2, 3, 4))\n",
      "<class 'str'>\n",
      "<class 'list'>\n",
      "<class 'float'>\n",
      "<class 'tuple'>\n"
     ]
    }
   ],
   "source": [
    "#question 1\n",
    "\n",
    "a=\"zahraa\",[1,2,3],2.3,(2,3,4)\n",
    "print (a)\n",
    "for i in a:\n",
    "    print (type(i))"
   ]
  },
  {
   "cell_type": "code",
   "execution_count": 27,
   "id": "b6c23343-28b5-4ed1-b672-aa43819716c3",
   "metadata": {},
   "outputs": [
    {
     "name": "stdout",
     "output_type": "stream",
     "text": [
      "<class 'str'>\n",
      "<class 'str'>\n",
      "<class 'list'>\n",
      "<class 'float'>\n"
     ]
    }
   ],
   "source": [
    "#question 2\n",
    "\n",
    "var1 = ''\n",
    "var2 = '[ DS , ML , Python]'\n",
    "var3 = [ 'DS' , 'ML' , 'Python' ]\n",
    "var4 = 1.\n",
    "\n",
    "print(type(var1))\n",
    "print(type(var2))\n",
    "print(type(var3))\n",
    "print(type(var4))"
   ]
  },
  {
   "cell_type": "code",
   "execution_count": 26,
   "id": "d470ad09-e838-4963-a1af-255834b2ca0d",
   "metadata": {},
   "outputs": [
    {
     "name": "stdout",
     "output_type": "stream",
     "text": [
      "3.3333333333333335\n",
      "1\n",
      "3\n",
      "1000\n"
     ]
    }
   ],
   "source": [
    "#question 3\n",
    "\n",
    "#(i) / = it is used to divide the left operand by the right one , returns quotient , returns float value\n",
    "a=10\n",
    "b=3\n",
    "print(a/b)\n",
    "# (ii) % = it is called the modulus , it returns the remainder\n",
    "print(a%b)\n",
    "# (iii) //= it is called floor division , it also returns the quotient but in int value by rounding of to the nearest number\n",
    "print(a//b)\n",
    "# (iv) ** = exponent , left operand raised to the power of right one\n",
    "print(a**b)"
   ]
  },
  {
   "cell_type": "code",
   "execution_count": 36,
   "id": "1e99cf7e-3b88-45ed-a2b3-eaca069a267a",
   "metadata": {},
   "outputs": [
    {
     "name": "stdout",
     "output_type": "stream",
     "text": [
      "Lenght of list: 10\n",
      "0\n",
      "<class 'int'>\n",
      "1\n",
      "<class 'int'>\n",
      "2\n",
      "<class 'int'>\n",
      "3\n",
      "<class 'int'>\n",
      "True\n",
      "<class 'bool'>\n",
      "False\n",
      "<class 'bool'>\n",
      "3j\n",
      "<class 'complex'>\n",
      "2.8\n",
      "<class 'float'>\n",
      "INDIA\n",
      "<class 'str'>\n",
      "2.3\n",
      "<class 'float'>\n"
     ]
    }
   ],
   "source": [
    "#Q4. Create a list of length 10 of your choice containing multiple types of data. Using for loop print the element and its data type.\n",
    "\n",
    "l=[0,1, 2 , 3, True, False, 3j , 2.8 , 'INDIA',2.3]\n",
    "print(\"Lenght of list:\",len(l))\n",
    "for i in l:\n",
    "    print (i)\n",
    "    print(type(i))"
   ]
  },
  {
   "cell_type": "code",
   "execution_count": 51,
   "id": "e88fdc23-9d88-4b76-b1b8-4de387f4dd78",
   "metadata": {},
   "outputs": [
    {
     "name": "stdout",
     "output_type": "stream",
     "text": [
      "50.0\n",
      "25.0\n",
      "no of times it divides 2\n"
     ]
    }
   ],
   "source": [
    "# Q5. Using a while loop, verify if the number A is purely divisible by number B and if so then how many times it can be divisible.\n",
    "\n",
    "A=100\n",
    "B=2\n",
    "i=0 #count\n",
    "while A%B == 0:\n",
    "    A =A /B\n",
    "    i=i+1\n",
    "    print (A) \n",
    "if i>0:\n",
    "    print (\"no of times it divides\",i)\n",
    "else:\n",
    "    print(\"not divisible\")\n",
    "       "
   ]
  },
  {
   "cell_type": "code",
   "execution_count": 59,
   "id": "5ec44f70-61fb-4bb6-957f-a79b3e2295ae",
   "metadata": {},
   "outputs": [
    {
     "name": "stdout",
     "output_type": "stream",
     "text": [
      "25\n",
      "no is not divisle by 3: 1\n",
      "no is divisble by 3: 3\n",
      "no is not divisle by 3: 2\n",
      "no is divisble by 3: 6\n",
      "no is divisble by 3: 9\n",
      "no is not divisle by 3: 38\n",
      "no is divisble by 3: 21\n",
      "no is divisble by 3: 30\n",
      "no is divisble by 3: 42\n",
      "no is not divisle by 3: 35\n",
      "no is not divisle by 3: 46\n",
      "no is divisble by 3: 45\n",
      "no is not divisle by 3: 76\n",
      "no is not divisle by 3: 89\n",
      "no is divisble by 3: 81\n",
      "no is not divisle by 3: 32\n",
      "no is divisble by 3: 18\n",
      "no is not divisle by 3: 56\n",
      "no is not divisle by 3: 89\n",
      "no is divisble by 3: 90\n",
      "no is not divisle by 3: 74\n",
      "no is divisble by 3: 72\n",
      "no is divisble by 3: 102\n",
      "no is not divisle by 3: 69.3\n",
      "no is divisble by 3: 3\n"
     ]
    }
   ],
   "source": [
    "# Q6. Create a list containing 25 int type data. Using for loop and if-else condition print if the element is divisible by 3 or not.\n",
    "\n",
    "l=[1,3,2 ,6,9,38,21,30,42,35,46,45,76,89,81,32,18,56,89,90,74,72,102,69.3,3]\n",
    "print (len(l))\n",
    "for i in l:\n",
    "    if i%3==0:\n",
    "        print(\"no is divisble by 3:\",i)\n",
    "    else:\n",
    "        print(\"no is not divisle by 3:\",i)\n",
    "        i=i+1"
   ]
  },
  {
   "cell_type": "code",
   "execution_count": 67,
   "id": "6f9928af-efbd-4740-8d37-ebd46396d162",
   "metadata": {},
   "outputs": [
    {
     "name": "stdout",
     "output_type": "stream",
     "text": [
      "a\n",
      "[1, 2, 3, 4, 'b']\n",
      "r\n"
     ]
    },
    {
     "ename": "NameError",
     "evalue": "name 't' is not defined",
     "output_type": "error",
     "traceback": [
      "\u001b[0;31m---------------------------------------------------------------------------\u001b[0m",
      "\u001b[0;31mNameError\u001b[0m                                 Traceback (most recent call last)",
      "Cell \u001b[0;32mIn[67], line 19\u001b[0m\n\u001b[1;32m     17\u001b[0m string\u001b[38;5;241m=\u001b[39m \u001b[38;5;124m'\u001b[39m\u001b[38;5;124mzahraa\u001b[39m\u001b[38;5;124m'\u001b[39m\n\u001b[1;32m     18\u001b[0m \u001b[38;5;28mprint\u001b[39m(string[\u001b[38;5;241m3\u001b[39m])\n\u001b[0;32m---> 19\u001b[0m string[\u001b[38;5;241m2\u001b[39m]\u001b[38;5;241m=\u001b[39m\u001b[43mt\u001b[49m\n\u001b[1;32m     20\u001b[0m \u001b[38;5;28mprint\u001b[39m(string)\n",
      "\u001b[0;31mNameError\u001b[0m: name 't' is not defined"
     ]
    }
   ],
   "source": [
    "# Q7. What do you understand about mutable and immutable data types? Give examples for both showing this property.\n",
    "\"\"\"\n",
    "Answer:String and list both are collection/container \n",
    "While string is said to be a collection of alphabets stored in index similarly list is collection of data stored using index.\n",
    "Both store data through indexing in both backward and forward direction .\n",
    "\n",
    "But when we want to perform any action for example replace,adding , removing data at particular index , it is only possible to do it in list .\n",
    "Thus, list is mutable as it allows to make changes with help of index, while strings are immutable as they do not support the same.\n",
    "for eg.\n",
    "\"\"\"\n",
    "\n",
    "list=[1,2,'a',4,'b']\n",
    "print(list[2])  # will return value stored at index 2\n",
    "list[2]=3       # replace value at index 2 to a new value i.e it is mutable\n",
    "print(list)     \n",
    "\n",
    "string= 'zahraa'\n",
    "print(string[3]) # will return value stored at index 3\n",
    "string[3]=t      # will give erroer i.e it is immutable\n",
    "print(string)"
   ]
  },
  {
   "cell_type": "code",
   "execution_count": null,
   "id": "fca4f7fb-1341-453f-b9e3-fbdfcad22661",
   "metadata": {},
   "outputs": [],
   "source": []
  },
  {
   "cell_type": "code",
   "execution_count": null,
   "id": "c2179f71-8bf1-4fba-a8da-0d28a40a87f7",
   "metadata": {},
   "outputs": [],
   "source": []
  }
 ],
 "metadata": {
  "kernelspec": {
   "display_name": "Python 3 (ipykernel)",
   "language": "python",
   "name": "python3"
  },
  "language_info": {
   "codemirror_mode": {
    "name": "ipython",
    "version": 3
   },
   "file_extension": ".py",
   "mimetype": "text/x-python",
   "name": "python",
   "nbconvert_exporter": "python",
   "pygments_lexer": "ipython3",
   "version": "3.10.8"
  }
 },
 "nbformat": 4,
 "nbformat_minor": 5
}
