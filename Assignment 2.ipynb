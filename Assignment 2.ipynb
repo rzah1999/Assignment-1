{
 "cells": [
  {
   "cell_type": "code",
   "execution_count": 1,
   "id": "cc851b59-2729-43f7-8ef1-3f46ce632166",
   "metadata": {},
   "outputs": [],
   "source": [
    "#Q1. How do you comment code in Python? What are the different types of comments?\n",
    "\n",
    "\"\"\"\n",
    "Answer:\n",
    "Although we can use “#” to comment large paragraphs into a different line,\n",
    "it is easier to use the triple quotes (“””…”””) to write paragraph comments.\n",
    "\n",
    "Comments are descriptions that help programmers better understand the intent and functionality of the program.\n",
    "There are different types of comments used in python:\n",
    "\n",
    "Single-line Comments-Python ignores everything after the hash mark and up to the end of the line. \n",
    "You can insert them anywhere in your code, even in line with other code\n",
    "\n",
    "Multi-line Comments-We can use # at the beginning of each line of comment on multiple lines.\n",
    " shortcutto perform this is Ctrl+/\n",
    "\n",
    "Docstring Comments-, the triple quotes that appear right after the function, method, or the class definition is docstrings (documentation strings).\n",
    "\n",
    "String literals as Comments-the multiline string isn't assigned to any variable, so it is ignored by the interpreter. \n",
    "Even though it is not technically a multiline comment, it can be used as one\n",
    "\n",
    "\"\"\"\n",
    "\n",
    "#EXAMPLE\n",
    "\n",
    "\n",
    "# 1.Single line comment -List of numbers \n",
    "\n",
    "numbers = [76, 5, 3, 68, 43, 23, 54, 42, 11]\n",
    "\n",
    "# 2. Multi-Line Comment\n",
    "# Python code is\n",
    "# easy to understand \n",
    "# with comments\n",
    "\n",
    "\n",
    "#3. String Literala\n",
    "\"\"I can write a comment for list of numbers like this\"\"\n",
    "numbers = [76, 5, 3, 68, 43, 23, 54, 42, 11]\n",
    "\n",
    "\n",
    "#4.Docstring Comment\n",
    "\n",
    "def hello(name):\n",
    "\n",
    "    \"\"\"\n",
    "    This function greets the person passed as a parameter\n",
    "    \"\"\"\n",
    "\n",
    "    print(\"Hello, \" + name + \". How are you?\")\n",
    "\n",
    "hello('Lisa')\n",
    "\n",
    "\n",
    "\n"
   ]
  },
  {
   "cell_type": "code",
   "execution_count": 10,
   "id": "b633cdee-584f-440a-9534-42241a8c3314",
   "metadata": {},
   "outputs": [
    {
     "name": "stdout",
     "output_type": "stream",
     "text": [
      "24\n",
      "rifath\n",
      "26\n",
      "30\n"
     ]
    }
   ],
   "source": [
    "#Q2. What are variables in Python? How do you declare and assign values to variables?\n",
    "\n",
    "\"\"\"\n",
    "Answer: \n",
    "In Python, variables are used to store and refer to data values. \n",
    "A variable is essentially a named location in the computer's memory where you can store information. \n",
    "You can assign different types of values to variables, such as numbers, strings, lists, or more complex objects.\n",
    "\n",
    "To declare and assign a value to a variable in Python, you simply choose a name for the variable \n",
    "and use the assignment operator (=) to associate a value with that name.\n",
    "\n",
    "\"\"\"\n",
    "#For Example:\n",
    "# Variable declaration and assignment\n",
    "age = 24\n",
    "name = \"rifath\"\n",
    "\n",
    "print(age)\n",
    "print(name)\n",
    "\n",
    "\"\"\"\n",
    "In the example above, we declare and assign two variables. The variable age is assigned the value 25\n",
    "the variable name is assigned the string \"sai\". \n",
    "\n",
    "\"\"\"\n",
    "\n",
    "# We can also assign a new value to an existing variable, effectively changing its value. \"\"\"\n",
    "\n",
    "#For example:\n",
    "# Variable reassignment\n",
    "age = 26\n",
    "print(age) \n",
    "\n",
    "age = 30\n",
    "print(age) \n",
    "\n",
    "\n",
    "'''\n",
    "In the example above, we first assign the value 25 to the variable age, and then we reassign it a new value of 30. \n",
    "The second assignment overwrites the previous value of age.\n",
    "'''\n"
   ]
  },
  {
   "cell_type": "code",
   "execution_count": 13,
   "id": "29103d11-6067-4df5-9852-1ffad526ef35",
   "metadata": {},
   "outputs": [
    {
     "name": "stdout",
     "output_type": "stream",
     "text": [
      "10\n",
      "20\n",
      "3.14\n",
      "13.14\n",
      "The number is: 10\n",
      "['H', 'e', 'l', 'l', 'o']\n",
      "{'H', 'e', 'o', 'l'}\n",
      "('H', 'e', 'l', 'l', 'o')\n",
      "I am 25 years old\n",
      "I am 30 years old\n"
     ]
    }
   ],
   "source": [
    "#Q3. How do you convert one data type to another in Python?\n",
    "\n",
    "'''\n",
    "Answer:\n",
    "Explicit Type Conversion (Type Casting):\n",
    "We can use built-in functions to explicitly convert one data type to another. \n",
    "The syntax is new_data_type(value). \n",
    "Here are a few examples:\n",
    "'''\n",
    "\n",
    "# Integer to string\n",
    "num = 10\n",
    "num_str = str(num)\n",
    "print(num_str)  \n",
    "\n",
    "# String to integer\n",
    "num_str = \"20\"\n",
    "num = int(num_str)\n",
    "print(num) \n",
    "\n",
    "# String to float\n",
    "float_str = \"3.14\"\n",
    "float_num = float(float_str)\n",
    "print(float_num) \n",
    "\n",
    "'''\n",
    "Implicit Type Conversion (Automatic Type Conversion):\n",
    "Python automatically performs type conversion in certain situations, such as when performing operations between different data types. \n",
    "For example:\n",
    "'''\n",
    "\n",
    "# Integer and float operation\n",
    "num1 = 10\n",
    "num2 = 3.14\n",
    "result = num1 + num2\n",
    "print(result)\n",
    "\n",
    "# Integer and string concatenation\n",
    "num = 10\n",
    "text = \"The number is: \" + str(num)\n",
    "print(text) \n",
    "\n",
    "'''\n",
    "Using specific conversion functions: \n",
    "Some data types provide specific conversion functions to convert to other data types.\n",
    "For instance, the list(), tuple(), and set() functions can convert objects to lists, tuples, and sets, respectively. \n",
    "Here's an example:\n",
    "'''\n",
    "\n",
    "# String to list.set,tuple\n",
    "str_val = \"Hello\"\n",
    "list_val = list(str_val)\n",
    "print(list_val) \n",
    "set_val= set(str_val)\n",
    "print(set_val)\n",
    "tup_val=tuple(str_val)\n",
    "print(tup_val)\n",
    "\n",
    "'''\n",
    "Using the format() method or f-strings: \n",
    "When working with strings, we can use the format() method or f-strings to convert values to strings and include them within the larger string. \n",
    "Here's an example:\n",
    "'''\n",
    "\n",
    "# Format method\n",
    "age = 25\n",
    "message = \"I am {} years old\".format(age)\n",
    "print(message) \n",
    "\n",
    "# f-strings\n",
    "age = 30\n",
    "message = f\"I am {age} years old\"\n",
    "print(message) "
   ]
  },
  {
   "cell_type": "code",
   "execution_count": 4,
   "id": "a1a0c5af-9e56-4bfa-a313-5d0e6bd7d4ad",
   "metadata": {},
   "outputs": [],
   "source": [
    "#Q4. How do you write and execute a Python script from the command line?\n",
    "\n",
    "'''\n",
    "Answer:\n",
    "To write and execute a Python script from the command line, we can follow these steps:\n",
    "\n",
    "Open a text editor and create a new file. \n",
    "Write our Python code in this file and save it with a .py extension. For example, let's create a file named script.py.\n",
    "Open the command line or terminal on your computer.\n",
    "Navigate to the directory where you saved the Python script. \n",
    "We can use the cd command (change directory) to navigate through the directory structure.\n",
    "\n",
    "cd path/to/directory\n",
    "Once we are in the correct directory, we can run the Python script by typing python followed by the name of the script file.\n",
    "python script.py\n",
    "\n",
    "If we have multiple versions of Python installed on your system, you may need to specify the version explicitly. \n",
    "For example, if we have both Python 2 and Python 3 installed, we can use python3 instead of python to execute the script with Python 3.\n",
    "python3 script.py\n",
    "Press the Enter key, and the Python script will be executed. The output, if any, will be displayed in the command line.\n",
    "\n",
    "'''"
   ]
  },
  {
   "cell_type": "code",
   "execution_count": 10,
   "id": "bbeb289a-4fb3-4184-89dc-07f1b3b91a5a",
   "metadata": {},
   "outputs": [
    {
     "name": "stdout",
     "output_type": "stream",
     "text": [
      "[2, 3]\n"
     ]
    }
   ],
   "source": [
    "#Q5. Given a list my_list = [1, 2, 3, 4, 5], write the code to slice the list and obtain the sub-list [2, 3].\n",
    "\n",
    "my_list = [1, 2, 3, 4, 5]\n",
    "a= my_list[1:3]\n",
    "print (a)"
   ]
  },
  {
   "cell_type": "code",
   "execution_count": 18,
   "id": "32946fee-9345-4964-a4ab-c9fe39ade079",
   "metadata": {},
   "outputs": [
    {
     "name": "stdout",
     "output_type": "stream",
     "text": [
      "(3+4j)\n",
      "(2+5j)\n",
      "3.0\n",
      "4.0\n",
      "(5+9j)\n",
      "(1-1j)\n",
      "(-14+23j)\n",
      "(0.896551724137931-0.24137931034482757j)\n"
     ]
    }
   ],
   "source": [
    "#Q6. What is a complex number in mathematics, and how is it represented in Python?\n",
    "\n",
    "\n",
    "'''\n",
    "Answer:\n",
    "In mathematics, a complex number is a number that can be expressed in the form \"a + bi\", \n",
    "where \"a\" and \"b\" are real numbers, and \"i\" is the imaginary unit defined by the property \"i^2 = -1\". \n",
    "The real part of the complex number is denoted by \"a\", and the imaginary part is denoted by \"b\". \n",
    "Complex numbers extend the real numbers by introducing the imaginary unit \"i\",allowing for the representation of numbers that cannot be expressed as real numbers.\n",
    "\n",
    "In Python, complex numbers can be represented using the built-in complex class. The syntax to create a complex number in Python is as follows:\n",
    "z = complex(a, b)\n",
    "You can also create a complex number using a shorthand notation, where you append \"j\" or \"J\" to the imaginary part instead of using the complex() function:\n",
    "z = a + bj\n",
    "'''\n",
    "#Here's an example of creating and manipulating complex numbers in Python:\n",
    "\n",
    "# Creating complex numbers\n",
    "z1 = complex(3, 4)   # 3 + 4i\n",
    "z2 = 2 + 5j          # 2 + 5i\n",
    "print(z1)\n",
    "print(z2)\n",
    "\n",
    "# Accessing real and imaginary parts\n",
    "real_part = z1.real  # 3.0\n",
    "imag_part = z1.imag  # 4.0\n",
    "print(real_part)\n",
    "print(imag_part)\n",
    "\n",
    "# Arithmetic operations\n",
    "addition = z1 + z2   # (3 + 4i) + (2 + 5i) = 5 + 9i\n",
    "subtraction = z1 - z2   # (3 + 4i) - (2 + 5i) = 1 - i\n",
    "multiplication = z1 * z2   # (3 + 4i) * (2 + 5i) = -14 + 23i\n",
    "division = z1 / z2   # (3 + 4i) / (2 + 5i) = 0.7804878048780488 + 0.0487804878048781i\n",
    "\n",
    "print(addition)\n",
    "print(subtraction)\n",
    "print(multiplication)\n",
    "print(division)"
   ]
  },
  {
   "cell_type": "code",
   "execution_count": 19,
   "id": "11749a7f-0ddc-4c3a-9c7a-60c848fed560",
   "metadata": {},
   "outputs": [
    {
     "name": "stdout",
     "output_type": "stream",
     "text": [
      "25\n"
     ]
    }
   ],
   "source": [
    "#Q7. What is the correct way to declare a variable named age and assign the value 25 to it?\n",
    "\n",
    "age = 25\n",
    "print(age)"
   ]
  },
  {
   "cell_type": "code",
   "execution_count": 20,
   "id": "9a9f2e56-166d-4bce-821f-412ac348c1f8",
   "metadata": {},
   "outputs": [
    {
     "name": "stdout",
     "output_type": "stream",
     "text": [
      "<class 'float'>\n"
     ]
    }
   ],
   "source": [
    "#Q8. Declare a variable named price and assign the value 9.99 to it. What data type does this variablebelong to?\n",
    "\n",
    "price =9.99\n",
    "print(type(price))"
   ]
  },
  {
   "cell_type": "code",
   "execution_count": 19,
   "id": "0ccb9202-53c2-4f32-9a6c-554dc87c22a0",
   "metadata": {},
   "outputs": [
    {
     "name": "stdout",
     "output_type": "stream",
     "text": [
      "Rifath Zahraa Ahmed\n"
     ]
    }
   ],
   "source": [
    "#Q9. Create a variable named name and assign your full name to it as a string. How would you print thevalue of this variable?\n",
    "\n",
    "name =\"Rifath Zahraa Ahmed\"\n",
    "print(name)"
   ]
  },
  {
   "cell_type": "code",
   "execution_count": 18,
   "id": "79d0079c-1521-49c1-9d72-5fd2ffe81f5e",
   "metadata": {},
   "outputs": [
    {
     "name": "stdout",
     "output_type": "stream",
     "text": [
      "World\n"
     ]
    }
   ],
   "source": [
    "#Q10. Given the string \"Hello, World!\", extract the substring \"World\".\n",
    "\n",
    "str = \"Hello, World! \"\n",
    "strext = str[7:12]\n",
    "print(strext)"
   ]
  },
  {
   "cell_type": "code",
   "execution_count": 21,
   "id": "f1c8f86a-71c8-4dc6-ab72-d03badb48015",
   "metadata": {},
   "outputs": [
    {
     "name": "stdout",
     "output_type": "stream",
     "text": [
      "True\n"
     ]
    }
   ],
   "source": [
    "#Q11. Create a variable named \"is_student\" and assign it a boolean value indicating whether you are currently a student or not.\n",
    "\n",
    "is_student = True\n",
    "\n",
    "print(is_student)\n",
    "\n",
    "'''\n",
    "In the above example, the variable \"is_student\" is assigned the boolean value True, which indicates that you are currently a student. \n",
    "If you are not a student, you can assign the value False instead.\n",
    "By assigning the appropriate boolean value to the \"is_student\" variable, you can indicate your current student status.\n",
    "\n",
    "'''\n",
    "\n"
   ]
  },
  {
   "cell_type": "code",
   "execution_count": null,
   "id": "f457749b-c0c6-4537-9e87-f5cbd6e04684",
   "metadata": {},
   "outputs": [],
   "source": []
  }
 ],
 "metadata": {
  "kernelspec": {
   "display_name": "Python 3 (ipykernel)",
   "language": "python",
   "name": "python3"
  },
  "language_info": {
   "codemirror_mode": {
    "name": "ipython",
    "version": 3
   },
   "file_extension": ".py",
   "mimetype": "text/x-python",
   "name": "python",
   "nbconvert_exporter": "python",
   "pygments_lexer": "ipython3",
   "version": "3.10.8"
  }
 },
 "nbformat": 4,
 "nbformat_minor": 5
}
