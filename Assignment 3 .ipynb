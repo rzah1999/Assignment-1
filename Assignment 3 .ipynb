{
 "cells": [
  {
   "cell_type": "markdown",
   "id": "0e0d41fa-bf7e-410e-b23d-3250d371b074",
   "metadata": {},
   "source": [
    "Q1. Which keyword is used to create a function? Create a function to return a list of odd numbers in the\n",
    "range of 1 to 25.\n",
    "\n",
    "Answer: A def keyword is used to create a function"
   ]
  },
  {
   "cell_type": "code",
   "execution_count": null,
   "id": "9f93fe33-4d30-4d58-90a6-8522e2b7a0c1",
   "metadata": {},
   "outputs": [],
   "source": [
    "def odd():\n",
    "    l=[]\n",
    "    for i in range(0,25):\n",
    "        if i%2!=0:\n",
    "            l.append(i)\n",
    "    return l\n",
    "odd()"
   ]
  },
  {
   "cell_type": "markdown",
   "id": "c98b5a39-f1a1-47d8-8f21-2ce1512a420f",
   "metadata": {},
   "source": [
    "Q2. Why *args and **kwargs is used in some functions? Create a function each for *args and **kwargs\n",
    "to demonstrate their use.\n",
    "\n",
    "Answer: *args and **kwargs are passed as arguments when we are unsure about the number of arguments to pass in the function\n",
    "the difference between *args and **kwargs is that \n",
    "*args is used to pass non-keyword argument while **kwargs passes keyworded arguments i.e every value is assigned to a key"
   ]
  },
  {
   "cell_type": "code",
   "execution_count": null,
   "id": "f73ba29b-b78d-4e15-8647-bdb25342a1a8",
   "metadata": {},
   "outputs": [],
   "source": [
    "# function to reprent *args\n",
    "\n",
    "def arg1(*args):\n",
    "    index=0\n",
    "    for i in args:\n",
    "        print(\"The argument [\"+str(index)+\"] is:\",i)\n",
    "        index+=1\n",
    "arg1(\"Hello\",\"This\",\"is\",\"Pwskills\",\"Assg\")\n",
    "\n",
    "#function to represent **kwargs\n",
    "\n",
    "def arg2(**kwargs):\n",
    "    index=0\n",
    "    for key,value in kwargs.items():\n",
    "        print(\"The argument[\"+str(index)+\"] is having key \"+str(key)+\" with value \"+str(value))\n",
    "        index+=1\n",
    "arg2(FirstName=\"Rifath\" , Lastname=\"Ahmed\" , Location=\"Mumbai\" , Course=\"DataScience\")"
   ]
  },
  {
   "cell_type": "markdown",
   "id": "23eecd3f-1195-4db2-8576-a1af0bd1563d",
   "metadata": {},
   "source": [
    "Q3. What is an iterator in python? Name the method used to initialise the iterator object and the method\n",
    "used for iteration. Use these methods to print the first five elements of the given list [2, 4, 6, 8, 10, 12, 14,\n",
    "16, 18, 20].\n",
    "\n",
    "Answer:An iterator in Python is an object that is used to iterate over iterable objects like lists, tuples, dicts, and sets.\n",
    "The Python iterators object is initialized using the iter() method. \n",
    "It uses the next() method for iteration."
   ]
  },
  {
   "cell_type": "code",
   "execution_count": null,
   "id": "236ba4b3-e646-402f-9561-36eebe87ea08",
   "metadata": {},
   "outputs": [],
   "source": [
    "l1=[2, 4, 6, 8, 10, 12, 14, 16, 18, 20]\n",
    "l2=iter(l1)\n",
    "print(next(l2))\n",
    "print(next(l2))\n",
    "print(next(l2))\n",
    "print(next(l2))\n",
    "print(next(l2))\n",
    "\n",
    "    "
   ]
  },
  {
   "cell_type": "markdown",
   "id": "3475e08b-4172-45f0-903e-4c7745475d4a",
   "metadata": {},
   "source": [
    "Q4. What is a generator function in python? Why yield keyword is used? Give an example of a generator\n",
    "function.\n",
    "\n",
    "Answer:  1)A generator function in Python is a special type of function that returns a generator iterator, which can be used to iterate over a sequence of elements.\n",
    "2)A generator function is defined like a normal function, but instead of using the return statement to return a value, it uses the yield statement.\n",
    "3)The yield statement is used to produce a value, and the generator function can be resumed from where it left off the next time next() is called on the generator."
   ]
  },
  {
   "cell_type": "markdown",
   "id": "9ffd083a-f8bb-4407-950a-130e6594e212",
   "metadata": {},
   "source": [
    "def gen():\n",
    "    list=[1,2,3,4,5]\n",
    "    for i in list:\n",
    "        yield i*2\n",
    "print(gen())\n",
    "obj=gen()\n",
    "print(next(obj))\n",
    "print(next(obj))\n",
    "print(next(obj))\n",
    "print(next(obj))\n"
   ]
  },
  {
   "cell_type": "markdown",
   "id": "9eae8391-c671-43f8-880f-2df637511702",
   "metadata": {},
   "source": [
    "Q5. Create a generator function for prime numbers less than 1000. Use the next() method to print the\n",
    "first 20 prime numbers."
   ]
  },
  {
   "cell_type": "code",
   "execution_count": null,
   "id": "67116709-2a0e-434b-b3c5-8c190de3a8b0",
   "metadata": {},
   "outputs": [],
   "source": [
    "#Answer:\n",
    "def g_func():\n",
    "    yield 2\n",
    "    prime_list=[2]\n",
    "    for i in range(3,1000):\n",
    "        is_prime=True\n",
    "        for prime in prime_list:\n",
    "            if i%prime==0:\n",
    "                is_prime=False \n",
    "                break\n",
    "        if is_prime:\n",
    "            prime_list.append(i)\n",
    "            yield i\n",
    "\n",
    "\"\"\"gen_prime= g_func()\n",
    "for i in range(20):\n",
    "    print(next(gen_prime))\n",
    "\n",
    "    \n",
    "def is_prime_num(n):\n",
    "    # Check if the number is prime\n",
    "    if n < 2:\n",
    "        return False\n",
    "    for i in range(2, n-1):\n",
    "        if n % i == 0:\n",
    "            return False\n",
    "    return True\n",
    "\n",
    "def prime_numbers():\n",
    "    for num in range(2,1000):\n",
    "        if is_prime_num(num):\n",
    "            yield num\n",
    "\n",
    "# Create the prime numbers generator\n",
    "prime_gen = prime_numbers()\n",
    "for i in range(20):\n",
    "    print(next(prime_gen))\"\"\"           "
   ]
  },
  {
   "cell_type": "markdown",
   "id": "f75eeacd-b6ad-4d27-b505-458f42e78662",
   "metadata": {},
   "source": [
    "Q6. Write a python program to print the first 10 Fibonacci numbers using a while loop."
   ]
  },
  {
   "cell_type": "code",
   "execution_count": 3,
   "id": "5abf74f8-37ba-4ce7-8c3d-a42ea5e2e017",
   "metadata": {},
   "outputs": [
    {
     "name": "stdout",
     "output_type": "stream",
     "text": [
      "0\n",
      "1\n",
      "1\n",
      "2\n",
      "3\n",
      "5\n",
      "8\n",
      "13\n",
      "21\n",
      "34\n",
      "0\n",
      "1\n",
      "1\n"
     ]
    }
   ],
   "source": [
    "#Answer:\n",
    "def fib(n):\n",
    "    a,b=0,1\n",
    "    count=0\n",
    "    while count<n:\n",
    "        print(a)\n",
    "        a,b=b,a+b\n",
    "        count+=1\n",
    "fib(10)\n",
    "\n",
    "#method 2 using yield\n",
    "def fibonacci(n):\n",
    "    a,b=0,1\n",
    "    while True:\n",
    "        yield a\n",
    "        a,b=b,a+b\n",
    "fibo=fibonacci(11)\n",
    "print(next(fibo))\n",
    "print(next(fibo))\n",
    "print(next(fibo))"
   ]
  },
  {
   "cell_type": "markdown",
   "id": "959414ef-7bf6-44b4-9f25-2766de26c67d",
   "metadata": {},
   "source": [
    "Q7. Write a List Comprehension to iterate through the given string: ‘pwskills’.\n",
    "Expected output: ['p', 'w', 's', 'k', 'i', 'l', 'l', 's']"
   ]
  },
  {
   "cell_type": "code",
   "execution_count": 2,
   "id": "4a4daf99-5869-4967-abfd-85060fe047e9",
   "metadata": {},
   "outputs": [
    {
     "data": {
      "text/plain": [
       "['p', 'w', 's', 'k', 'i', 'l', 'l', 's']"
      ]
     },
     "execution_count": 2,
     "metadata": {},
     "output_type": "execute_result"
    }
   ],
   "source": [
    "#Answer:\n",
    "def list_comprehension(str):\n",
    "    return[i for i in str ] \n",
    "list_comprehension(\"pwskills\")"
   ]
  },
  {
   "cell_type": "markdown",
   "id": "cc878e4f-27bc-4d3b-ab09-6ab603e586d5",
   "metadata": {},
   "source": [
    "Q8. Write a python program to check whether a given number is Palindrome or not using a while loop."
   ]
  },
  {
   "cell_type": "code",
   "execution_count": 11,
   "id": "2ff89de2-5786-4a05-97c4-1d6f53449c2e",
   "metadata": {},
   "outputs": [
    {
     "name": "stdin",
     "output_type": "stream",
     "text": [
      "Enter a number  2002\n"
     ]
    },
    {
     "name": "stdout",
     "output_type": "stream",
     "text": [
      "number is a palindrome\n"
     ]
    },
    {
     "name": "stdin",
     "output_type": "stream",
     "text": [
      "Enter a string: madam\n"
     ]
    },
    {
     "name": "stdout",
     "output_type": "stream",
     "text": [
      "palindrome\n"
     ]
    }
   ],
   "source": [
    "#Answer:\n",
    "num = int(input(\"Enter a number \"))\n",
    "temp=num\n",
    "reverse=0\n",
    "\n",
    "while(num>0):\n",
    "    dig=num%10\n",
    "    reverse=reverse*10 + dig\n",
    "    num=num//10\n",
    "\n",
    "if temp==reverse:\n",
    "    print(\"number is a palindrome\")\n",
    "else:\n",
    "    print(\"number is not a palindrome\")\n",
    "    \n",
    "'''str=input(\"Enter a string:\")\n",
    "reverse=str[::-1]\n",
    "if (str==reverse):\n",
    "    print(\"palindrome\")\n",
    "else:\n",
    "    (\"not a palindrome\")'''"
   ]
  },
  {
   "cell_type": "markdown",
   "id": "bd403662-f87e-4a04-b5a7-197b3350db14",
   "metadata": {},
   "source": [
    "Q9. Write a code to print odd numbers from 1 to 100 using list comprehension.\n",
    "Note: Use a list comprehension to create a list from 1 to 100 and use another List comprehension to filter\n",
    "out odd numbers."
   ]
  },
  {
   "cell_type": "code",
   "execution_count": 1,
   "id": "cfada082-a680-4b12-a5e0-f6437949b551",
   "metadata": {},
   "outputs": [
    {
     "data": {
      "text/plain": [
       "[1,\n",
       " 3,\n",
       " 5,\n",
       " 7,\n",
       " 9,\n",
       " 11,\n",
       " 13,\n",
       " 15,\n",
       " 17,\n",
       " 19,\n",
       " 21,\n",
       " 23,\n",
       " 25,\n",
       " 27,\n",
       " 29,\n",
       " 31,\n",
       " 33,\n",
       " 35,\n",
       " 37,\n",
       " 39,\n",
       " 41,\n",
       " 43,\n",
       " 45,\n",
       " 47,\n",
       " 49,\n",
       " 51,\n",
       " 53,\n",
       " 55,\n",
       " 57,\n",
       " 59,\n",
       " 61,\n",
       " 63,\n",
       " 65,\n",
       " 67,\n",
       " 69,\n",
       " 71,\n",
       " 73,\n",
       " 75,\n",
       " 77,\n",
       " 79,\n",
       " 81,\n",
       " 83,\n",
       " 85,\n",
       " 87,\n",
       " 89,\n",
       " 91,\n",
       " 93,\n",
       " 95,\n",
       " 97,\n",
       " 99]"
      ]
     },
     "execution_count": 1,
     "metadata": {},
     "output_type": "execute_result"
    }
   ],
   "source": [
    "#Answer:\n",
    "def odd_numbers():\n",
    "    return [odd for odd in range(1,100) if odd%2!=0]\n",
    "odd_numbers()    "
   ]
  },
  {
   "cell_type": "code",
   "execution_count": null,
   "id": "710e2e22-9deb-4e7b-91fe-de2fd0762eb9",
   "metadata": {},
   "outputs": [
    {
     "data": {
      "text/plain": [
       "200"
      ]
     },
     "execution_count": 7,
     "metadata": {},
     "output_type": "execute_result"
    }
   ],
   "source": []
  }
 ],
 "metadata": {
  "kernelspec": {
   "display_name": "Python 3 (ipykernel)",
   "language": "python",
   "name": "python3"
  },
  "language_info": {
   "codemirror_mode": {
    "name": "ipython",
    "version": 3
   },
   "file_extension": ".py",
   "mimetype": "text/x-python",
   "name": "python",
   "nbconvert_exporter": "python",
   "pygments_lexer": "ipython3",
   "version": "3.10.8"
  }
 },
 "nbformat": 4,
 "nbformat_minor": 5
}
