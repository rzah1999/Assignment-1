{
 "cells": [
  {
   "cell_type": "markdown",
   "id": "47110996-c79e-49de-9f24-62f56a96a49e",
   "metadata": {},
   "source": [
    "Q1, Create a vehicle class with an init method having instance variables as name_of_vehicle, max_speed\n",
    "and average_of_vehicle."
   ]
  },
  {
   "cell_type": "code",
   "execution_count": 12,
   "id": "957632ae-c581-48d0-8f92-ea77df851761",
   "metadata": {},
   "outputs": [
    {
     "name": "stdout",
     "output_type": "stream",
     "text": [
      "My vehicle name is innova\n",
      "Max_speed is 30 kmph\n",
      "Average of vehicle is 14.5 kmpl\n"
     ]
    }
   ],
   "source": [
    "class vehicle:\n",
    "    def __init__(self, name_of_vehicle, max_speed , average_of_vehicle):\n",
    "        self.name= name_of_vehicle\n",
    "        self.speed= max_speed\n",
    "        self.avg=average_of_vehicle\n",
    "#example\n",
    "my_car=vehicle(\"innova\",30, 14.5)\n",
    "print(f'My vehicle name is {my_car.name}')\n",
    "print(f'Max_speed is {my_car.speed} kmph')\n",
    "print(f'Average of vehicle is {my_car.avg} kmpl')"
   ]
  },
  {
   "cell_type": "markdown",
   "id": "5e3b8206-cc3b-40e9-af99-5e843f1a731a",
   "metadata": {},
   "source": [
    "Create a child class car from the vehicle class created in Que 1, which will inherit the vehicle class.\n",
    "Create a method named seating_capacity which takes capacity as an argument and returns the name of\n",
    "the vehicle and its seating capacity."
   ]
  },
  {
   "cell_type": "code",
   "execution_count": 27,
   "id": "1dfce0ae-e597-464e-b28e-4dac988118bb",
   "metadata": {},
   "outputs": [
    {
     "data": {
      "text/plain": [
       "('Hector', 5)"
      ]
     },
     "execution_count": 27,
     "metadata": {},
     "output_type": "execute_result"
    }
   ],
   "source": [
    "class car(vehicle):\n",
    "    def seating_capacity(self ,capacity):\n",
    "        self.cap = capacity\n",
    "        return self.name , self.cap\n",
    "    \n",
    "car = car('Hector',195,14)\n",
    "car.seating_capacity(5)\n"
   ]
  },
  {
   "cell_type": "markdown",
   "id": "eedd57d2-bcbd-487d-a46f-2a137671f2e9",
   "metadata": {},
   "source": [
    "What is multiple inheritance? Write a python code to demonstrate multiple inheritance."
   ]
  },
  {
   "cell_type": "markdown",
   "id": "e510eaea-5f08-4357-812b-13b3a248a3ec",
   "metadata": {},
   "source": [
    "if a child class inherits from more than one class, i.e. this child class is derived from multiple classes, we call it multiple inheritance in Python.\n",
    "This newly derived child class will inherit the properties of all the classes that it is derived from"
   ]
  },
  {
   "cell_type": "code",
   "execution_count": 8,
   "id": "aee20e7d-98be-47a5-ba59-48044671672a",
   "metadata": {},
   "outputs": [
    {
     "name": "stdout",
     "output_type": "stream",
     "text": [
      "dad is a businessman\n",
      "mom cooks\n",
      "child studies\n"
     ]
    }
   ],
   "source": [
    "class Dad():\n",
    "    def work(self):\n",
    "        print(\"dad is a businessman\")\n",
    "class Mom():\n",
    "    def work1(self):\n",
    "        print(\"mom cooks\")\n",
    "class child(Dad,Mom):\n",
    "    def study(self):\n",
    "        print (\"child studies\")\n",
    "\n",
    "kid=child()\n",
    "kid.work()\n",
    "kid.work1()\n",
    "kid.study() "
   ]
  },
  {
   "cell_type": "markdown",
   "id": "931fbe8e-4d51-4383-9be5-679ae8c24c5b",
   "metadata": {},
   "source": [
    "What are getter and setter in python? Create a class and create a getter and a setter method in this class."
   ]
  },
  {
   "cell_type": "markdown",
   "id": "30697904-9390-4d41-817c-5f85aaa2113b",
   "metadata": {},
   "source": [
    "Getters : These are the methods used in Object-Oriented Programming (OOPS) which helps to access the private attributes from a class.\n",
    "Setters : These are the methods used in OOPS feature which helps to set the value to private attributes in a class."
   ]
  },
  {
   "cell_type": "code",
   "execution_count": 35,
   "id": "cb3b0e30-182d-4765-9a89-c4975fdd0f55",
   "metadata": {},
   "outputs": [
    {
     "name": "stdout",
     "output_type": "stream",
     "text": [
      "the old id was 34\n",
      "The new id is 67\n"
     ]
    }
   ],
   "source": [
    "# Creating a class employee with getter and setter functions\n",
    "\n",
    "class employee:\n",
    "    def __init__(self,name, emp_id):\n",
    "        self.__name=name\n",
    "        self.__emp_id=emp_id\n",
    "\n",
    " \n",
    "    def get_employee(self):\n",
    "        return self.__emp_id\n",
    "    \n",
    "\n",
    "    def set_employee(self, new_id):\n",
    "        self.__emp_id=new_id\n",
    "\n",
    "\n",
    "obj=employee(\"rif\", 34)\n",
    "obj.get_employee()\n",
    "print(f'the old id was {obj.get_employee()}')\n",
    "obj.set_employee(67)\n",
    "print(f'The new id is {obj.get_employee()}')"
   ]
  },
  {
   "cell_type": "markdown",
   "id": "b892eb5a-8642-4a3b-bbf3-3f7638a1ae06",
   "metadata": {},
   "source": [
    "What is method overriding in python? Write a python code to demonstrate method overriding"
   ]
  },
  {
   "cell_type": "markdown",
   "id": "64934275-c13f-4056-b814-f34beefb7333",
   "metadata": {},
   "source": [
    "Method overriding is a feature of object-oriented programming languages where the subclass or child class can provide the program with specific characteristics or a specific implementation process of data provided that are already defined in the parent class or superclass."
   ]
  },
  {
   "cell_type": "code",
   "execution_count": 46,
   "id": "3538c4b8-bfa0-454e-b81a-1829ee9b90c7",
   "metadata": {},
   "outputs": [
    {
     "name": "stdout",
     "output_type": "stream",
     "text": [
      "all animals walk\n",
      "animals communicate in different ways\n",
      "i walk slowly\n",
      "meow is how i communicate\n"
     ]
    }
   ],
   "source": [
    "class Animal():\n",
    "    def main(self):\n",
    "        print( 'i am parent animal class')\n",
    "    def walk(self):\n",
    "        print ('all animals walk')\n",
    "    def communicate(self):\n",
    "        print(\"animals communicate in different ways\")\n",
    "\n",
    "class cat(Animal):\n",
    "    def walk(self):\n",
    "        print('i walk slowly')\n",
    "    def meow(self):\n",
    "        print(\"meow is how i communicate\")\n",
    "\n",
    "#Invoking Parent class through object main        \n",
    "main= Animal()\n",
    "main.walk()\n",
    "main.communicate()\n",
    "\n",
    "#Invoking Child class through object r\n",
    "main=cat()\n",
    "main.walk()\n",
    "main.meow()"
   ]
  },
  {
   "cell_type": "code",
   "execution_count": null,
   "id": "bb1d0b30-d2db-4d65-bcec-243747cd11c9",
   "metadata": {},
   "outputs": [],
   "source": []
  },
  {
   "cell_type": "code",
   "execution_count": null,
   "id": "c565fc3c-e9fc-43ed-99ea-b134fd4af019",
   "metadata": {},
   "outputs": [],
   "source": []
  }
 ],
 "metadata": {
  "kernelspec": {
   "display_name": "Python 3 (ipykernel)",
   "language": "python",
   "name": "python3"
  },
  "language_info": {
   "codemirror_mode": {
    "name": "ipython",
    "version": 3
   },
   "file_extension": ".py",
   "mimetype": "text/x-python",
   "name": "python",
   "nbconvert_exporter": "python",
   "pygments_lexer": "ipython3",
   "version": "3.10.8"
  }
 },
 "nbformat": 4,
 "nbformat_minor": 5
}
