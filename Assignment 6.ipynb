{
 "cells": [
  {
   "cell_type": "markdown",
   "id": "4cd99410-6af8-4023-a3fb-11d7bc736040",
   "metadata": {},
   "source": [
    "Question 1: Explain Class and Object with respect to Object-Oriented Programming. Give a suitable example."
   ]
  },
  {
   "cell_type": "markdown",
   "id": "42a7a976-b53d-4369-8f1c-172f8f74affa",
   "metadata": {},
   "source": [
    "Answr: In object-oriented programming, a class is a blueprint for creating objects (instances of a class). It defines the data and behaviors (methods) that the objects of the class will have.\n",
    "\n",
    "For example consider a class Triangle , which could have attributes sides a,b,c and methods like perimeter, area.\n",
    "Each Triangle created will have different sides with unique values of a,b,c . These unique triangles are objects of class\n",
    "An Object is an instance of class and represents a single entity with its own unique data and behaviours"
   ]
  },
  {
   "cell_type": "code",
   "execution_count": 11,
   "id": "642a5a26-5ba4-4dba-9bd9-b1cebeb84dfb",
   "metadata": {},
   "outputs": [
    {
     "name": "stdout",
     "output_type": "stream",
     "text": [
      "<class '__main__.Triangle'>\n",
      "True\n",
      "12\n",
      "6.0\n"
     ]
    }
   ],
   "source": [
    "#example of CLass \n",
    "\n",
    "class Triangle:\n",
    "    \n",
    "     \n",
    "        def __init__(self , a , b ,c):\n",
    "            self.a=a \n",
    "            self.b=b \n",
    "            self.c=c\n",
    "        \n",
    "        def isTriangle(self):\n",
    "            if (self.a + self.b)> self.c and (self.b+self.c)>self.a and (self.a +self.c)>self.b:\n",
    "                x = True \n",
    "            else:\n",
    "                x=False\n",
    "            return x\n",
    "            \n",
    "        \n",
    "        def perimeter(self):\n",
    "            if self.isTriangle()== True:\n",
    "                p=self.a+ self.b +self.c\n",
    "            else:\n",
    "                p= None\n",
    "                print(f'The sides {self.a}, {self.b}, {self.c} do not form a triangle')\n",
    "            return p\n",
    "        \n",
    "        def area(self):\n",
    "            if self.isTriangle()==True:\n",
    "                ar=0.5*self.a * self.b\n",
    "            else:\n",
    "                ar= None\n",
    "                print(f'The sides {self.a}, {self.b}, {self.c} do not form a triangle')\n",
    "            return ar\n",
    "\n",
    "obj_triangle=Triangle(3,4,5)\n",
    "print(type(obj_triangle))\n",
    "print(obj_triangle.isTriangle())\n",
    "print(obj_triangle.perimeter())\n",
    "print(obj_triangle.area())    \n",
    "\n"
   ]
  },
  {
   "cell_type": "markdown",
   "id": "cff0d4a3-80a2-44a3-b7dc-c952508f938a",
   "metadata": {},
   "source": [
    "Question 2: Name the four pillars of OOPs."
   ]
  },
  {
   "cell_type": "markdown",
   "id": "c4391874-e671-4ce1-9098-880fee0f6fc4",
   "metadata": {},
   "source": [
    "4 pillars of Object Oriented Programming are as below :\n",
    "Abstraction: This refers to the idea of hiding the implementation details and only showing the relevant information to the user. It allows the user to focus on the objects and their behavior, rather than the underlying code.\n",
    "\n",
    "Encapsulation: This is the mechanism of wrapping data and functions within a single unit (object) to protect the data from external access and modification. This helps to maintain the integrity of the data and the object.\n",
    "\n",
    "Inheritance: This is a mechanism of creating new classes (child classes) from existing classes (parent classes). The child classes inherit the attributes and behaviors of the parent class, and can also have their own unique attributes and behaviors. This helps to reduce code duplication and promote code reuse.\n",
    "\n",
    "Polymorphism: This refers to the ability of objects of different classes to respond to the same method call in different ways. This allows objects to be treated as objects of their parent class, while still retaining their unique behavior. This enables objects to be used interchangeably, reducing code complexity and improving code maintainability.\n",
    "\n",
    "These four pillars are essential elements of object-oriented programming and work together to allow for the creation of robust, flexible, and scalable software systems."
   ]
  },
  {
   "cell_type": "markdown",
   "id": "3c7314b8-f655-4155-bbc0-7bd5d6b43f64",
   "metadata": {},
   "source": [
    "Question 3: Explain why the __init__() function is used. Give a suitable example"
   ]
  },
  {
   "cell_type": "markdown",
   "id": "b5834e96-1ecd-49c7-9417-8118eab489e3",
   "metadata": {},
   "source": [
    "\n",
    "Answer : The __init__() function is a special method in Python classes, known as the constructor method.\n",
    "It is automatically called when an object of the class is created, and is used to initialize the attributes of the object\n",
    "\n",
    "For Example consider a class 'car' that has attributes 'manufacturer', 'weight' and color\n",
    "__init__() function can be used to initialize attribute manufacturer, weight and color when car object is created"
   ]
  },
  {
   "cell_type": "code",
   "execution_count": 1,
   "id": "1193dcd1-e11b-4d3e-95a9-7844b5084a34",
   "metadata": {},
   "outputs": [
    {
     "name": "stdout",
     "output_type": "stream",
     "text": [
      "kia\n",
      "1700\n",
      "white\n"
     ]
    }
   ],
   "source": [
    "class car:\n",
    "    def __init__(self, manufacturer , weight , color):\n",
    "        self. manufacturer=manufacturer\n",
    "        self.weight= weight\n",
    "        self.color = color\n",
    "    \n",
    "seltos = car(\"kia\" , 1700 , 'white')\n",
    "print(seltos.manufacturer)\n",
    "print(seltos.weight)\n",
    "print(seltos.color)"
   ]
  },
  {
   "cell_type": "markdown",
   "id": "63400462-872d-4d1a-88c7-5fbe967d9ba6",
   "metadata": {},
   "source": [
    "Question 4: Why self is used in OOPs?\n",
    "\n",
    "Answer : In object-oriented programming (OOP), the self keyword is used as a reference to the instance of the object that is calling the method.\n",
    "It is used to access the attributes and methods of the object within the class\n",
    "In the example below  the 'details()' method uses 'self' to access cars 'manufacturer', 'weight' and 'color'.\n",
    "Without 'self', method 'details()' is not able to create any attribute and will give error."
   ]
  },
  {
   "cell_type": "code",
   "execution_count": 2,
   "id": "b5960f7c-c2a1-4931-866f-5298a20b64d1",
   "metadata": {},
   "outputs": [
    {
     "name": "stdout",
     "output_type": "stream",
     "text": [
      "This car was manufactured by Morris Garages, its weight is 1600 and its color is Glaze Red\n"
     ]
    }
   ],
   "source": [
    "class car:\n",
    "\n",
    "    def __init__(self, manufacturer, weight, color):\n",
    "        self.manufacturer = manufacturer\n",
    "        self.weight = weight\n",
    "        self.color = color\n",
    "\n",
    "    def details(self):\n",
    "        print(f'This car was manufactured by {self.manufacturer}, its weight is {self.weight} and its color is {self.color}')\n",
    "\n",
    "\n",
    "hector = car('Morris Garages',1600,'Glaze Red')\n",
    "hector.details()"
   ]
  },
  {
   "cell_type": "markdown",
   "id": "333a5643-4865-4911-9a0a-36b14365e287",
   "metadata": {},
   "source": [
    "Question 5 : What is inheritance? Give an example for each type of inheritance.\n",
    "\n",
    "Answer : Inheritance is a mechanism in object-oriented programming (OOP) that allows a new class to be created based on an existing class.\n",
    "The new class inherits the attributes and behaviors of the existing class, and can also add its own unique attributes and behaviors.\n",
    "\n",
    "Single Inheritance : When child class is derived from only one parent class. This is called single inheritance\n",
    "\n",
    "Multiple Inheritance: When child class is derived or inherited from more than one parent class. This is called multiple inheritance. In multiple inheritance, we have two parent classes/base classes and one child class that inherits both parent classes properties.\n",
    "\n",
    "Multilevel Inheritance: In multilevel inheritance, we have one parent class and child class that is derived or inherited from that parent class. We have a grand-child class that is derived from the child class.\n",
    "\n",
    "Hierarchical inheritance: When we derive or inherit more than one child class from one(same) parent class. Then this type of inheritance is called hierarchical inheritance\n",
    "\n",
    "Hybrid Inheritance - Inheritance consisting of multiple types of inheritance is called hybrid inheritance."
   ]
  },
  {
   "cell_type": "code",
   "execution_count": 3,
   "id": "d20faa29-6872-42ff-b771-76762d2dd14d",
   "metadata": {},
   "outputs": [
    {
     "name": "stdout",
     "output_type": "stream",
     "text": [
      "Amazon is an Online Ecommerce Store\n",
      "Ebay is an Online Store\n",
      "OLX is an Online Buy Sell Store\n"
     ]
    }
   ],
   "source": [
    "# Single Inheritance Example\n",
    "class Brands:               #parent_class\n",
    "    brand_name_1 = \"Amazon\"\n",
    "    brand_name_2 = \"Ebay\"\n",
    "    brand_name_3 = \"OLX\"\n",
    "    \n",
    "class Products(Brands):       #child_class\n",
    "    prod_1 = \"Online Ecommerce Store\"\n",
    "    prod_2 = \"Online Store\"\n",
    "    prod_3 = \"Online Buy Sell Store\"\n",
    "    \n",
    "obj_1 = Products()          #Object_creation\n",
    "print(obj_1.brand_name_1+\" is an \"+obj_1.prod_1)\n",
    "print(obj_1.brand_name_2+\" is an \"+obj_1.prod_2)\n",
    "print(obj_1.brand_name_3+\" is an \"+obj_1.prod_3)"
   ]
  },
  {
   "cell_type": "code",
   "execution_count": 5,
   "id": "345b163e-7952-4922-aeff-69ae069eaf2d",
   "metadata": {},
   "outputs": [
    {
     "name": "stdout",
     "output_type": "stream",
     "text": [
      "Amazon is an Online Ecommerce Store with popularity = 100\n",
      "Ebay is an Online Store with popularity = 70\n",
      "OLX is an Online Buy Sell Store with popularity = 60\n"
     ]
    }
   ],
   "source": [
    "#example_of_multiple_inheritance\n",
    "\n",
    "class Brands:               #parent_class_1\n",
    "    brand_name_1 = \"Amazon\"\n",
    "    brand_name_2 = \"Ebay\"\n",
    "    brand_name_3 = \"OLX\"\n",
    "    \n",
    "class Products:             #parent_class_2\n",
    "    prod_1 = \"Online Ecommerce Store\"\n",
    "    prod_2 = \"Online Store\"\n",
    "    prod_3 = \"Online Buy Sell Store\"\n",
    "\n",
    "class Popularity(Brands,Products): #child class created from parent class 1 and parent class 2\n",
    "    prod_1_popularity = 100\n",
    "    prod_2_popularity = 70\n",
    "    prod_3_popularity = 60\n",
    "    \n",
    "obj_1 = Popularity()          #Object_creation\n",
    "print(obj_1.brand_name_1+\" is an \"+obj_1.prod_1 +\" with popularity = \"+str(obj_1.prod_1_popularity))\n",
    "print(obj_1.brand_name_2+\" is an \"+obj_1.prod_2 +\" with popularity = \"+str(obj_1.prod_2_popularity))\n",
    "print(obj_1.brand_name_3+\" is an \"+obj_1.prod_3 +\" with popularity = \"+str(obj_1.prod_3_popularity))"
   ]
  },
  {
   "cell_type": "code",
   "execution_count": 6,
   "id": "aa03074f-33d0-48cb-9abf-4d4e0eeb7fdc",
   "metadata": {},
   "outputs": [
    {
     "name": "stdout",
     "output_type": "stream",
     "text": [
      "Amazon is an Online Ecommerce Store popularity of 100\n",
      "Ebay is an Online Store popularity of 70\n",
      "OLX is an Online Buy Sell Store popularity of 60\n"
     ]
    }
   ],
   "source": [
    "#example_of_multilevel_inheritance\n",
    "\n",
    "class Brands:                      #parent_class\n",
    "    brand_name_1 = \"Amazon\"\n",
    "    brand_name_2 = \"Ebay\"\n",
    "    brand_name_3 = \"OLX\"\n",
    "    \n",
    "class Products(Brands):            #child_class\n",
    "    prod_1 = \"Online Ecommerce Store\"\n",
    "    prod_2 = \"Online Store\"\n",
    "    prod_3 = \"Online Buy Sell Store\"\n",
    "\n",
    "class Popularity(Products):        #grand_child_class\n",
    "    prod_1_popularity = 100\n",
    "    prod_2_popularity = 70\n",
    "    prod_3_popularity = 60\n",
    "    \n",
    "    \n",
    "obj_1 = Popularity()          #Object_creation\n",
    "print(obj_1.brand_name_1+\" is an \"+obj_1.prod_1+\" popularity of \"+str(obj_1.prod_1_popularity))\n",
    "print(obj_1.brand_name_2+\" is an \"+obj_1.prod_2+\" popularity of \"+str(obj_1.prod_2_popularity))\n",
    "print(obj_1.brand_name_3+\" is an \"+obj_1.prod_3+\" popularity of \"+str(obj_1.prod_3_popularity))"
   ]
  },
  {
   "cell_type": "code",
   "execution_count": 14,
   "id": "5c348d86-9807-4e8c-b0b8-316906b620a2",
   "metadata": {},
   "outputs": [
    {
     "name": "stdout",
     "output_type": "stream",
     "text": [
      "Amazon is an Online Ecommerce Store with popularity of 100 and is Excellent Value\n",
      "Ebay is an Online Store with popularity of 70 and is Better Value\n",
      "OLX is an Online Buy Sell Store with popularity of 60 and is Good Value\n"
     ]
    }
   ],
   "source": [
    "#example of Hierarchical inheritence\n",
    "\n",
    "class Brands:                      #parent_class\n",
    "    brand_name_1 = \"Amazon\"\n",
    "    brand_name_2 = \"Ebay\"\n",
    "    brand_name_3 = \"OLX\"\n",
    "    \n",
    "class Products(Brands):            #child_class 1\n",
    "    prod_1 = \"Online Ecommerce Store\"\n",
    "    prod_2 = \"Online Store\"\n",
    "    prod_3 = \"Online Buy Sell Store\"\n",
    "\n",
    "class Popularity(Brands):          #child class 2\n",
    "    prod_1_popularity = 100\n",
    "    prod_2_popularity = 70\n",
    "    prod_3_popularity = 60\n",
    "\n",
    "class Value(Brands):               #child class 3\n",
    "    prod_1_value = \"Excellent Value\"\n",
    "    prod_2_value = \"Better Value\"\n",
    "    prod_3_value = \"Good Value\"\n",
    "    \n",
    "obj_1 = Products()          #Objects_creation\n",
    "obj_2 = Popularity()\n",
    "obj_3 = Value()\n",
    "print(obj_1.brand_name_1+\" is an \"+obj_1.prod_1+' with popularity of '+str(obj_2.prod_1_popularity)+' and is '+ obj_3.prod_1_value)\n",
    "print(obj_1.brand_name_2+\" is an \"+obj_1.prod_2+' with popularity of '+str(obj_2.prod_2_popularity)+' and is '+ obj_3.prod_2_value)\n",
    "print(obj_1.brand_name_3+\" is an \"+obj_1.prod_3+' with popularity of '+str(obj_2.prod_3_popularity)+' and is '+ obj_3.prod_3_value)"
   ]
  },
  {
   "cell_type": "code",
   "execution_count": 10,
   "id": "cf793455-1c30-4014-aba9-362f585e3b1a",
   "metadata": {},
   "outputs": [
    {
     "name": "stdout",
     "output_type": "stream",
     "text": [
      "This function is in school.\n",
      "This function is in student 1. \n",
      "This function is in student 3.\n"
     ]
    }
   ],
   "source": [
    "# hybrid inheritance \n",
    " \n",
    "class School:\n",
    "    def func1(self):\n",
    "        print(\"This function is in school.\")\n",
    " \n",
    " \n",
    "class Student1(School):\n",
    "    def func2(self):\n",
    "        print(\"This function is in student 1. \")\n",
    " \n",
    " \n",
    "class Student2(School):\n",
    "    def func3(self):\n",
    "        print(\"This function is in student 2.\")\n",
    " \n",
    " \n",
    "class Student3(Student1, School):\n",
    "    def func4(self):\n",
    "        print(\"This function is in student 3.\")\n",
    " \n",
    " \n",
    "# Driver's code\n",
    "object = Student3()\n",
    "object.func1()\n",
    "object.func2()\n",
    "#object.func3() will raise attribute error\n",
    "object.func4()"
   ]
  },
  {
   "cell_type": "code",
   "execution_count": null,
   "id": "2fe910f3-7cde-489f-aa18-2583de7e981a",
   "metadata": {},
   "outputs": [],
   "source": []
  }
 ],
 "metadata": {
  "kernelspec": {
   "display_name": "Python 3 (ipykernel)",
   "language": "python",
   "name": "python3"
  },
  "language_info": {
   "codemirror_mode": {
    "name": "ipython",
    "version": 3
   },
   "file_extension": ".py",
   "mimetype": "text/x-python",
   "name": "python",
   "nbconvert_exporter": "python",
   "pygments_lexer": "ipython3",
   "version": "3.10.8"
  }
 },
 "nbformat": 4,
 "nbformat_minor": 5
}
